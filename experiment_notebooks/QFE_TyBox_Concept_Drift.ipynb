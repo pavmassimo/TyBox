{
 "cells": [
  {
   "cell_type": "code",
   "execution_count": null,
   "id": "52728e4d",
   "metadata": {
    "execution": {
     "iopub.execute_input": "2023-08-15T12:45:08.164576Z",
     "iopub.status.busy": "2023-08-15T12:45:08.164137Z",
     "iopub.status.idle": "2023-08-15T12:45:10.674064Z",
     "shell.execute_reply": "2023-08-15T12:45:10.672895Z"
    },
    "id": "Vk8e9nCC7SVa",
    "outputId": "af8fbf8b-08a5-44bc-f2a9-979026f9d207",
    "papermill": {
     "duration": 2.523452,
     "end_time": "2023-08-15T12:45:10.677069",
     "exception": false,
     "start_time": "2023-08-15T12:45:08.153617",
     "status": "completed"
    },
    "tags": []
   },
   "outputs": [],
   "source": [
    "!git clone https://github.com/pavmassimo/TyBox/tree/feature-extractor-quantization.git"
   ]
  },
  {
   "cell_type": "code",
   "execution_count": 2,
   "id": "416aa97e",
   "metadata": {
    "execution": {
     "iopub.execute_input": "2023-08-15T12:45:10.697050Z",
     "iopub.status.busy": "2023-08-15T12:45:10.695941Z",
     "iopub.status.idle": "2023-08-15T12:45:20.293128Z",
     "shell.execute_reply": "2023-08-15T12:45:20.291716Z"
    },
    "id": "xzyvPZUE7suo",
    "papermill": {
     "duration": 9.610503,
     "end_time": "2023-08-15T12:45:20.296356",
     "exception": false,
     "start_time": "2023-08-15T12:45:10.685853",
     "status": "completed"
    },
    "tags": []
   },
   "outputs": [],
   "source": [
    "import tensorflow as tf\n",
    "from tensorflow import keras\n",
    "import numpy as np\n",
    "from keras import layers\n",
    "from keras.models import Sequential\n",
    "from keras.utils import np_utils\n",
    "from keras import backend as K \n",
    "K.set_image_data_format('channels_last')\n",
    "\n",
    "from sklearn.preprocessing import OneHotEncoder\n",
    "\n",
    "import sys\n",
    "# insert at 1, 0 is the script path (or '' in REPL)\n",
    "sys.path.append('.//TyBox')\n",
    "\n",
    "from TyBox import TyBox\n",
    "from TyBox import profiler\n",
    "\n",
    "\n",
    "from matplotlib import pyplot as plt"
   ]
  },
  {
   "cell_type": "markdown",
   "id": "5f911fdc",
   "metadata": {
    "id": "rMMZzObp-Av5",
    "papermill": {
     "duration": 0.008288,
     "end_time": "2023-08-15T12:45:20.313392",
     "exception": false,
     "start_time": "2023-08-15T12:45:20.305104",
     "status": "completed"
    },
    "tags": []
   },
   "source": [
    "## Download and preparation of the dataset"
   ]
  },
  {
   "cell_type": "code",
   "execution_count": null,
   "id": "e36ecc63",
   "metadata": {
    "execution": {
     "iopub.execute_input": "2023-08-15T12:45:20.332963Z",
     "iopub.status.busy": "2023-08-15T12:45:20.332143Z",
     "iopub.status.idle": "2023-08-15T12:45:39.451682Z",
     "shell.execute_reply": "2023-08-15T12:45:39.450533Z"
    },
    "id": "v-PunA8t0Jo2",
    "outputId": "f63490bc-a49d-46d8-b659-17bad523834d",
    "papermill": {
     "duration": 19.132723,
     "end_time": "2023-08-15T12:45:39.454686",
     "exception": false,
     "start_time": "2023-08-15T12:45:20.321963",
     "status": "completed"
    },
    "tags": []
   },
   "outputs": [],
   "source": [
    "from keras.datasets import cifar10\n",
    "# Load data \n",
    "(train_examples, train_labels), (test_examples, test_labels) = cifar10.load_data()\n",
    "\n",
    "train_examples = train_examples.astype('float32')\n",
    "test_examples = test_examples.astype('float32')\n",
    "\n",
    "train_examples = train_examples / 255.0\n",
    "test_examples = test_examples / 255.0\n",
    "\n",
    "# # One hot encode target values\n",
    "# train_labels = np_utils.to_categorical(train_labels)\n",
    "# test_labels = np_utils.to_categorical(test_labels)\n",
    "\n",
    "train_dataset = tf.data.Dataset.from_tensor_slices((train_examples, train_labels))\n",
    "test_dataset = tf.data.Dataset.from_tensor_slices((test_examples, test_labels))\n",
    "\n",
    "BATCH_SIZE = 64\n",
    "SHUFFLE_BUFFER_SIZE = 100\n",
    "\n",
    "train_dataset = train_dataset.shuffle(SHUFFLE_BUFFER_SIZE).batch(BATCH_SIZE)\n",
    "test_dataset = test_dataset.batch(BATCH_SIZE)"
   ]
  },
  {
   "cell_type": "markdown",
   "id": "dab5e975",
   "metadata": {
    "id": "j-J4VNEmX1eG",
    "papermill": {
     "duration": 0.019508,
     "end_time": "2023-08-15T12:45:39.494467",
     "exception": false,
     "start_time": "2023-08-15T12:45:39.474959",
     "status": "completed"
    },
    "tags": []
   },
   "source": [
    "## Load model"
   ]
  },
  {
   "cell_type": "code",
   "execution_count": 4,
   "id": "8c5d163a",
   "metadata": {
    "execution": {
     "iopub.execute_input": "2023-08-15T12:45:39.535883Z",
     "iopub.status.busy": "2023-08-15T12:45:39.535413Z",
     "iopub.status.idle": "2023-08-15T12:45:48.215946Z",
     "shell.execute_reply": "2023-08-15T12:45:48.214618Z"
    },
    "id": "XDn3hdbPX0CG",
    "papermill": {
     "duration": 8.70501,
     "end_time": "2023-08-15T12:45:48.219050",
     "exception": false,
     "start_time": "2023-08-15T12:45:39.514040",
     "status": "completed"
    },
    "tags": []
   },
   "outputs": [],
   "source": [
    "model = keras.models.load_model(\"input_model\")"
   ]
  },
  {
   "cell_type": "code",
   "execution_count": 5,
   "id": "4a50a7ff",
   "metadata": {
    "execution": {
     "iopub.execute_input": "2023-08-15T12:45:48.261072Z",
     "iopub.status.busy": "2023-08-15T12:45:48.260639Z",
     "iopub.status.idle": "2023-08-15T12:45:48.288670Z",
     "shell.execute_reply": "2023-08-15T12:45:48.287555Z"
    },
    "id": "6D4mIyTLauZF",
    "papermill": {
     "duration": 0.052355,
     "end_time": "2023-08-15T12:45:48.291486",
     "exception": false,
     "start_time": "2023-08-15T12:45:48.239131",
     "status": "completed"
    },
    "tags": []
   },
   "outputs": [],
   "source": [
    "# Compile model\n",
    "pruning_lrate = 0.00135\n",
    "pruning_adam = tf.keras.optimizers.Adam(learning_rate=pruning_lrate)\n",
    "\n",
    "model.compile(loss=keras.losses.SparseCategoricalCrossentropy(), optimizer=pruning_adam, metrics=['accuracy'])"
   ]
  },
  {
   "cell_type": "markdown",
   "id": "70c453a1",
   "metadata": {
    "id": "Ah5JnJyajP6y",
    "papermill": {
     "duration": 0.019748,
     "end_time": "2023-08-15T12:45:48.331560",
     "exception": false,
     "start_time": "2023-08-15T12:45:48.311812",
     "status": "completed"
    },
    "tags": []
   },
   "source": [
    "#### Model summary"
   ]
  },
  {
   "cell_type": "code",
   "execution_count": null,
   "id": "57d3c1f0",
   "metadata": {
    "execution": {
     "iopub.execute_input": "2023-08-15T12:45:48.374088Z",
     "iopub.status.busy": "2023-08-15T12:45:48.373292Z",
     "iopub.status.idle": "2023-08-15T12:45:48.804242Z",
     "shell.execute_reply": "2023-08-15T12:45:48.802449Z"
    },
    "id": "Nmq3GI8PbFOF",
    "outputId": "11f1fbfc-5f66-4858-aadd-cc2805625a1c",
    "papermill": {
     "duration": 0.52605,
     "end_time": "2023-08-15T12:45:48.877334",
     "exception": false,
     "start_time": "2023-08-15T12:45:48.351284",
     "status": "completed"
    },
    "tags": []
   },
   "outputs": [],
   "source": [
    "model.summary()"
   ]
  },
  {
   "cell_type": "markdown",
   "id": "fa966cf8",
   "metadata": {
    "id": "MK3QThQXAdpH",
    "papermill": {
     "duration": 0.052428,
     "end_time": "2023-08-15T12:45:48.980018",
     "exception": false,
     "start_time": "2023-08-15T12:45:48.927590",
     "status": "completed"
    },
    "tags": []
   },
   "source": [
    "## Network Profiler\n",
    "It is possible now to initialize the profiler with the defined model.\n",
    "The profiler can provide useful information to the designer of the network on the memory occupations in terms of weights and activations, in total and at a per-layer granularity. "
   ]
  },
  {
   "cell_type": "code",
   "execution_count": null,
   "id": "85830bed",
   "metadata": {
    "execution": {
     "iopub.execute_input": "2023-08-15T12:45:49.090430Z",
     "iopub.status.busy": "2023-08-15T12:45:49.089616Z",
     "iopub.status.idle": "2023-08-15T12:45:49.211085Z",
     "shell.execute_reply": "2023-08-15T12:45:49.209845Z"
    },
    "id": "PHsMwPkH_vVU",
    "outputId": "30bcd66d-c504-4474-f1aa-014f6b21fcc2",
    "papermill": {
     "duration": 0.179597,
     "end_time": "2023-08-15T12:45:49.216479",
     "exception": false,
     "start_time": "2023-08-15T12:45:49.036882",
     "status": "completed"
    },
    "tags": []
   },
   "outputs": [],
   "source": [
    "# profiler = profiler.Profiler(\"model\", model)\n",
    "profiler = profiler.Profiler(network_name=\"model\", model=model, precisions=[[8, 8], [32, 32]])"
   ]
  },
  {
   "cell_type": "code",
   "execution_count": null,
   "id": "98b8960f",
   "metadata": {
    "execution": {
     "iopub.execute_input": "2023-08-15T12:45:49.326527Z",
     "iopub.status.busy": "2023-08-15T12:45:49.326078Z",
     "iopub.status.idle": "2023-08-15T12:45:49.333594Z",
     "shell.execute_reply": "2023-08-15T12:45:49.332246Z"
    },
    "id": "TqEhYEdlACI3",
    "outputId": "2523a599-ccaf-4ec5-dea6-25c86ce8929e",
    "papermill": {
     "duration": 0.064567,
     "end_time": "2023-08-15T12:45:49.336526",
     "exception": false,
     "start_time": "2023-08-15T12:45:49.271959",
     "status": "completed"
    },
    "tags": []
   },
   "outputs": [],
   "source": [
    "profiler.print_occupations()"
   ]
  },
  {
   "cell_type": "code",
   "execution_count": null,
   "id": "3b837f39",
   "metadata": {
    "execution": {
     "iopub.execute_input": "2023-08-15T12:45:49.446464Z",
     "iopub.status.busy": "2023-08-15T12:45:49.445987Z",
     "iopub.status.idle": "2023-08-15T12:45:49.458912Z",
     "shell.execute_reply": "2023-08-15T12:45:49.457454Z"
    },
    "id": "qit-65WRAU4A",
    "outputId": "20caa34c-244d-471d-c283-cef7bd035c89",
    "papermill": {
     "duration": 0.075694,
     "end_time": "2023-08-15T12:45:49.465480",
     "exception": false,
     "start_time": "2023-08-15T12:45:49.389786",
     "status": "completed"
    },
    "tags": []
   },
   "outputs": [],
   "source": [
    "profiler.print_per_layer()"
   ]
  },
  {
   "cell_type": "markdown",
   "id": "a42f0995",
   "metadata": {
    "id": "BiYwsEs4cRB1",
    "papermill": {
     "duration": 0.051257,
     "end_time": "2023-08-15T12:45:49.569595",
     "exception": false,
     "start_time": "2023-08-15T12:45:49.518338",
     "status": "completed"
    },
    "tags": []
   },
   "source": [
    "## Introduce concept drift: class swap\n",
    "\n",
    "In the data used for incremental training and testing, class 4 and 6 are swapped to simulate an abrupt concept drift.\n"
   ]
  },
  {
   "cell_type": "code",
   "execution_count": null,
   "id": "f924ab41",
   "metadata": {
    "execution": {
     "iopub.execute_input": "2023-08-15T12:45:49.676817Z",
     "iopub.status.busy": "2023-08-15T12:45:49.676087Z",
     "iopub.status.idle": "2023-08-15T12:45:49.980294Z",
     "shell.execute_reply": "2023-08-15T12:45:49.979135Z"
    },
    "id": "2ML_QrGACjkf",
    "outputId": "960deaad-eb4c-48ac-b4c2-4dac378d2552",
    "papermill": {
     "duration": 0.361038,
     "end_time": "2023-08-15T12:45:49.983246",
     "exception": false,
     "start_time": "2023-08-15T12:45:49.622208",
     "status": "completed"
    },
    "tags": []
   },
   "outputs": [],
   "source": [
    "def swap_class(num):\n",
    "    if num == 4:\n",
    "        return 6\n",
    "    elif num == 6:\n",
    "        return 4\n",
    "    else:\n",
    "        return num\n",
    "\n",
    "test_inverted_labels = np.array([swap_class(item) for item in test_labels]).astype('float32')\n",
    "test_inverted_dataset = tf.data.Dataset.from_tensor_slices((tf.experimental\n",
    "                        .numpy.expand_dims(test_examples, -1), test_inverted_labels))\n",
    "test_inverted_dataset = test_inverted_dataset.batch(BATCH_SIZE)"
   ]
  },
  {
   "cell_type": "code",
   "execution_count": null,
   "id": "7a31a9b1",
   "metadata": {
    "execution": {
     "iopub.execute_input": "2023-08-15T12:45:50.089997Z",
     "iopub.status.busy": "2023-08-15T12:45:50.089590Z",
     "iopub.status.idle": "2023-08-15T12:47:09.160092Z",
     "shell.execute_reply": "2023-08-15T12:47:09.158890Z"
    },
    "id": "48tDUBNsdAn7",
    "outputId": "d8647cd4-0369-401a-cca5-b9069416d7b5",
    "papermill": {
     "duration": 79.126172,
     "end_time": "2023-08-15T12:47:09.162567",
     "exception": false,
     "start_time": "2023-08-15T12:45:50.036395",
     "status": "completed"
    },
    "tags": []
   },
   "outputs": [],
   "source": [
    "model.evaluate(test_dataset)\n",
    "model.evaluate(test_inverted_dataset)"
   ]
  },
  {
   "cell_type": "markdown",
   "id": "65891234",
   "metadata": {
    "id": "AjnEHuXQeZ24",
    "papermill": {
     "duration": 0.079749,
     "end_time": "2023-08-15T12:47:09.322572",
     "exception": false,
     "start_time": "2023-08-15T12:47:09.242823",
     "status": "completed"
    },
    "tags": []
   },
   "source": [
    "## Python Incremental solution\n",
    "\n",
    "To generate the python version of the incremental solution, it's sufficient to call \n",
    "\n",
    "*Tybox.create_python_learning_solution(tf_model, mem_available, precision)*\n",
    "\n",
    "where mem_available is the amount of memory that can be dedicated to the machine learning on device (in Bytes), and precision is data precision of model and activations in bit (currently TyBox support only 32-bit floating point precision).\n"
   ]
  },
  {
   "cell_type": "code",
   "execution_count": null,
   "id": "66ccf752",
   "metadata": {
    "execution": {
     "iopub.execute_input": "2023-08-15T12:47:09.488587Z",
     "iopub.status.busy": "2023-08-15T12:47:09.488158Z",
     "iopub.status.idle": "2023-08-15T12:47:51.100372Z",
     "shell.execute_reply": "2023-08-15T12:47:51.099013Z"
    },
    "id": "0ml0Zfu_dDsz",
    "outputId": "22b0ee7e-b741-4c9c-e3f9-aa44547e699a",
    "papermill": {
     "duration": 41.698785,
     "end_time": "2023-08-15T12:47:51.104592",
     "exception": false,
     "start_time": "2023-08-15T12:47:09.405807",
     "status": "completed"
    },
    "tags": []
   },
   "outputs": [],
   "source": [
    "## Mf_lite, Mc_python = TyBox.create_python_learning_solution(model, 9000000, 32)\n",
    "\n",
    "# Create a compressible model for TFLite using integer-only quantization\n",
    "def representative_data_gen():\n",
    "    for input_value in tf.data.Dataset.from_tensor_slices(train_examples).batch(1).take(500):\n",
    "        yield [input_value]\n",
    "yield_representative_dataset = representative_data_gen\n",
    "Mf_lite, Mc_python = TyBox.create_python_learning_solution(model, 1250000, 8, yield_representative_dataset)"
   ]
  },
  {
   "cell_type": "markdown",
   "id": "2615c58f",
   "metadata": {
    "id": "usmIFcHGiMXG",
    "papermill": {
     "duration": 0.082583,
     "end_time": "2023-08-15T12:47:51.270486",
     "exception": false,
     "start_time": "2023-08-15T12:47:51.187903",
     "status": "completed"
    },
    "tags": []
   },
   "source": [
    "### Feature extraction with tf_lite\n",
    "\n",
    "The tf_lite model is saved and used to extract the latent features from the data"
   ]
  },
  {
   "cell_type": "code",
   "execution_count": null,
   "id": "b07dc52b",
   "metadata": {
    "execution": {
     "iopub.execute_input": "2023-08-15T12:47:51.439196Z",
     "iopub.status.busy": "2023-08-15T12:47:51.437975Z",
     "iopub.status.idle": "2023-08-15T12:48:08.074140Z",
     "shell.execute_reply": "2023-08-15T12:48:08.073130Z"
    },
    "id": "5jmWinpdf1mB",
    "outputId": "ba2dac0b-35be-41b7-f5a5-839ccb1228e6",
    "papermill": {
     "duration": 16.723225,
     "end_time": "2023-08-15T12:48:08.077071",
     "exception": false,
     "start_time": "2023-08-15T12:47:51.353846",
     "status": "completed"
    },
    "tags": []
   },
   "outputs": [],
   "source": [
    "with open(\"mf.tflite\", \"wb\") as file:\n",
    "    file.write(Mf_lite)\n",
    "\n",
    "#tf-lite model preparation\n",
    "interpreter = tf.lite.Interpreter('mf.tflite')\n",
    "interpreter.allocate_tensors()\n",
    "input_details = interpreter.get_input_details()[0]\n",
    "print(input_details)\n",
    "output_details = interpreter.get_output_details()[0]\n",
    "print(output_details)\n",
    "\n",
    "#feature extraction with the tf-lite model\n",
    "test_feature = []\n",
    "for i in range(len(test_labels)):\n",
    "    input_data = test_examples[i].reshape((1, 32, 32, 3))\n",
    "    \n",
    "    if input_details['dtype'] == np.uint8:\n",
    "        input_scale, input_zero_point = input_details[\"quantization\"]\n",
    "        input_data = input_data / input_scale + input_zero_point\n",
    "    \n",
    "    input_data = input_data.astype(input_details[\"dtype\"])\n",
    "    # print(input_data)\n",
    "    interpreter.set_tensor(input_details[\"index\"], input_data)\n",
    "    interpreter.invoke()\n",
    "    output = interpreter.get_tensor(output_details[\"index\"])[0]\n",
    "    # print(output)\n",
    "\n",
    "    test_feature.append(interpreter.get_tensor(output_details['index']))\n",
    "test_feature = np.array(test_feature)[:,0,:]\n",
    "# print(test_feature.shape, test_feature.dtype)"
   ]
  },
  {
   "cell_type": "code",
   "execution_count": 14,
   "id": "8ae4bdaa",
   "metadata": {
    "execution": {
     "iopub.execute_input": "2023-08-15T12:48:08.244999Z",
     "iopub.status.busy": "2023-08-15T12:48:08.244141Z",
     "iopub.status.idle": "2023-08-15T12:48:08.295326Z",
     "shell.execute_reply": "2023-08-15T12:48:08.293886Z"
    },
    "id": "4jNbBAKwkKNe",
    "papermill": {
     "duration": 0.138591,
     "end_time": "2023-08-15T12:48:08.298487",
     "exception": false,
     "start_time": "2023-08-15T12:48:08.159896",
     "status": "completed"
    },
    "tags": []
   },
   "outputs": [],
   "source": [
    "#generate one hot-encoding of labels\n",
    "categorical_test_labels_inverted = np.zeros(shape=(10000, 10))\n",
    "for i in range(len(test_labels)):\n",
    "    categorical_test_labels_inverted[i][int(test_inverted_labels[i])] = 1\n",
    "\n",
    "categorical_test_labels = np.zeros(shape=(10000,10))\n",
    "for i in range(len(test_labels)):\n",
    "    categorical_test_labels[i][test_labels[i]] = 1"
   ]
  },
  {
   "cell_type": "markdown",
   "id": "b57fdb39",
   "metadata": {
    "id": "yxxpzl0yjUcy",
    "papermill": {
     "duration": 0.082938,
     "end_time": "2023-08-15T12:48:08.463991",
     "exception": false,
     "start_time": "2023-08-15T12:48:08.381053",
     "status": "completed"
    },
    "tags": []
   },
   "source": [
    "### TyBox: python model usage"
   ]
  },
  {
   "cell_type": "code",
   "execution_count": null,
   "id": "3067e793",
   "metadata": {
    "execution": {
     "iopub.execute_input": "2023-08-15T12:48:08.630662Z",
     "iopub.status.busy": "2023-08-15T12:48:08.630182Z",
     "iopub.status.idle": "2023-08-15T20:54:48.439901Z",
     "shell.execute_reply": "2023-08-15T20:54:48.438066Z"
    },
    "id": "9iFxJH2ukDod",
    "outputId": "c14e45eb-9e1f-429f-abe3-b969ed4e82e7",
    "papermill": {
     "duration": 29199.899192,
     "end_time": "2023-08-15T20:54:48.445430",
     "exception": false,
     "start_time": "2023-08-15T12:48:08.546238",
     "status": "completed"
    },
    "tags": []
   },
   "outputs": [],
   "source": [
    "import random\n",
    "\n",
    "#n of times the experiment will be repeated.\n",
    "n_repetitions = 5\n",
    "\n",
    "#n of data used in the experiment\n",
    "exp_l = 1200\n",
    "\n",
    "#time of the concept drift event\n",
    "concept_drift_event_time = 100\n",
    "\n",
    "accuracies_tb = []\n",
    "\n",
    "for repetition in range(n_repetitions):\n",
    "    #list to store the results\n",
    "    res_acc = []\n",
    "\n",
    "    #load the original model and convert it\n",
    "#     model = keras.models.load_model(\"/kaggle/input/7929-keras-cnasnet-cifar10-training/7929_ManualSE_KerasCNASnetCifar10_trainedModel\")\n",
    "#     model = keras.models.load_model(\"/kaggle/input/kerassurgeon-prunedmodel/kerasSurgeon_prunedModel\")\n",
    "    model = keras.models.load_model(\"/kaggle/input/7948kerassurgeon-prunedmodel/7948kerasSurgeon_prunedModel\")\n",
    "    # fe_model, python_model = TyBox.create_python_learning_solution(model, 9000000, 32)\n",
    "    def representative_data_gen():\n",
    "        for input_value in tf.data.Dataset.from_tensor_slices(train_examples).batch(1).take(500):\n",
    "            yield [input_value]\n",
    "    yield_representative_dataset = representative_data_gen\n",
    "    fe_model, python_model = TyBox.create_python_learning_solution(model, 1250000, 8, yield_representative_dataset)\n",
    "    python_model.set_lr(0.001)\n",
    "    \n",
    "    #fix seed for reproducibility\n",
    "    random.seed(395 + repetition*52)\n",
    "\n",
    "    #sample without repetition from the training dataset\n",
    "    indices = random.sample(range(5000), exp_l)\n",
    "\n",
    "    step = 0\n",
    "\n",
    "    for sample in indices:\n",
    "        datum = test_feature[sample]\n",
    "\n",
    "        #before concept drift event\n",
    "        if step < concept_drift_event_time:\n",
    "          label = categorical_test_labels[sample]\n",
    "          test = categorical_test_labels[5000:5200]\n",
    "\n",
    "        #after concept drift event\n",
    "        else:\n",
    "          label = categorical_test_labels_inverted[sample]\n",
    "          test = categorical_test_labels_inverted[5000:5200]\n",
    "\n",
    "        #push datum into buffer and train on the whole buffer\n",
    "        python_model.push_and_train(datum, label)\n",
    "\n",
    "        #evaluate accuracy on test set\n",
    "        accuracy = python_model.evaluate(test_feature[5000:5200], test, output_details[\"quantization\"])\n",
    "        res_acc.append(accuracy)\n",
    "\n",
    "        print(step, accuracy)\n",
    "        step += 1 \n",
    "    accuracies_tb.append(res_acc)"
   ]
  },
  {
   "cell_type": "code",
   "execution_count": 16,
   "id": "7f739245",
   "metadata": {
    "execution": {
     "iopub.execute_input": "2023-08-15T20:54:49.804020Z",
     "iopub.status.busy": "2023-08-15T20:54:49.803480Z",
     "iopub.status.idle": "2023-08-15T20:54:49.817444Z",
     "shell.execute_reply": "2023-08-15T20:54:49.816564Z"
    },
    "id": "gaWCih64uxkL",
    "papermill": {
     "duration": 0.636703,
     "end_time": "2023-08-15T20:54:49.819836",
     "exception": false,
     "start_time": "2023-08-15T20:54:49.183133",
     "status": "completed"
    },
    "tags": []
   },
   "outputs": [],
   "source": [
    "avg_accuracies_tb = []\n",
    "for i in range(len(accuracies_tb[0])):\n",
    "  avg = 0\n",
    "  for ii in range(len(accuracies_tb)):\n",
    "    avg += accuracies_tb[ii][i]\n",
    "  avg = avg / len(accuracies_tb)\n",
    "  avg_accuracies_tb.append(avg)"
   ]
  },
  {
   "cell_type": "code",
   "execution_count": 17,
   "id": "09e5e065",
   "metadata": {
    "execution": {
     "iopub.execute_input": "2023-08-15T20:54:51.064291Z",
     "iopub.status.busy": "2023-08-15T20:54:51.063483Z",
     "iopub.status.idle": "2023-08-15T20:54:51.077004Z",
     "shell.execute_reply": "2023-08-15T20:54:51.075897Z"
    },
    "id": "pgTU9rSg4up9",
    "papermill": {
     "duration": 0.637213,
     "end_time": "2023-08-15T20:54:51.079524",
     "exception": false,
     "start_time": "2023-08-15T20:54:50.442311",
     "status": "completed"
    },
    "tags": []
   },
   "outputs": [],
   "source": [
    "import math\n",
    "\n",
    "std_dev_accuracies_tb = []\n",
    "for i in range(len(avg_accuracies_tb)):\n",
    "  std_dev = 0\n",
    "  for ii in range(len(accuracies_tb)):\n",
    "    std_dev += (avg_accuracies_tb[i] - accuracies_tb[ii][i]) ** 2\n",
    "  std_dev = math.sqrt(std_dev / len(accuracies_tb))\n",
    "  std_dev_accuracies_tb.append(std_dev)"
   ]
  },
  {
   "cell_type": "code",
   "execution_count": null,
   "id": "aa71d134",
   "metadata": {
    "execution": {
     "iopub.execute_input": "2023-08-15T20:54:52.336590Z",
     "iopub.status.busy": "2023-08-15T20:54:52.335746Z",
     "iopub.status.idle": "2023-08-15T20:54:52.779350Z",
     "shell.execute_reply": "2023-08-15T20:54:52.778340Z"
    },
    "id": "XAC4AATV5R9Y",
    "papermill": {
     "duration": 1.083254,
     "end_time": "2023-08-15T20:54:52.782645",
     "exception": false,
     "start_time": "2023-08-15T20:54:51.699391",
     "status": "completed"
    },
    "tags": []
   },
   "outputs": [],
   "source": [
    "plt.figure(figsize=(10,7))\n",
    "\n",
    "plt.plot(avg_accuracies_tb, label=\"toolbox\")\n",
    "std_low = [avg_accuracies_tb[i] - 2*std_dev_accuracies_tb[i] for i in range(len(avg_accuracies_tb))]\n",
    "std_high = [min(avg_accuracies_tb[i] + 2*std_dev_accuracies_tb[i], 1) for i in range(len(avg_accuracies_tb))]\n",
    "plt.fill_between([i for i in range(exp_l)], std_low, std_high, alpha=0.5)\n",
    "\n",
    "plt.title(\"Abrupt concept drift\")\n",
    "plt.xlabel(\"Time\")\n",
    "plt.ylabel(\"Accuracy\")\n",
    "plt.legend(loc=4)"
   ]
  }
 ],
 "metadata": {
  "kernelspec": {
   "display_name": "Python 3",
   "language": "python",
   "name": "python3"
  },
  "language_info": {
   "codemirror_mode": {
    "name": "ipython",
    "version": 3
   },
   "file_extension": ".py",
   "mimetype": "text/x-python",
   "name": "python",
   "nbconvert_exporter": "python",
   "pygments_lexer": "ipython3",
   "version": "3.7.12"
  },
  "papermill": {
   "default_parameters": {},
   "duration": 29401.366676,
   "end_time": "2023-08-15T20:54:56.616554",
   "environment_variables": {},
   "exception": null,
   "input_path": "__notebook__.ipynb",
   "output_path": "__notebook__.ipynb",
   "parameters": {},
   "start_time": "2023-08-15T12:44:55.249878",
   "version": "2.4.0"
  }
 },
 "nbformat": 4,
 "nbformat_minor": 5
}
